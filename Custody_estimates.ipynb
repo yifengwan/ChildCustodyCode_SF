{
 "cells": [
  {
   "cell_type": "markdown",
   "id": "4b5a5f13",
   "metadata": {},
   "source": [
    "# one-child sample\n"
   ]
  },
  {
   "cell_type": "code",
   "execution_count": null,
   "id": "61949887",
   "metadata": {},
   "outputs": [],
   "source": [
    "cd \"\"\n",
    "capture log close\n",
    "log using \"\", text replace\n",
    "clear all\n",
    "macro drop _all"
   ]
  },
  {
   "cell_type": "code",
   "execution_count": null,
   "id": "fa1e176e",
   "metadata": {},
   "outputs": [],
   "source": [
    "use onlychild.dta, clear\n",
    "eststo clear"
   ]
  },
  {
   "cell_type": "code",
   "execution_count": null,
   "id": "4f228964",
   "metadata": {},
   "outputs": [],
   "source": [
    "label var childage \"Child age\"\n",
    "label var custody_m \"Mother custody\"\n",
    "label var p_female \"Female plaintiff\"\n",
    "label var caregiver2 \"Primary caregivers\"\n",
    "label var malehome2 \"Father owns home\"\n",
    "label var female_nojob \"Unemployed mother\"\n",
    "label var violence \"Claim of domestic violence\"\n",
    "label var ill_m \"Mother with serious illness\"\n",
    "label var ill_f \"Father with serious illness\"\n",
    "label var addchild_m \"Mother has additional children\"\n",
    "label var addchild_f \"Father has additional children\"\n",
    "label var rural \"Rural areas\"\n",
    "label var consent \"Defendant's consent to divorce\"\n",
    "\n",
    "label define child_sex 0 \"Boy\" 1 \"Girl\"\n",
    "label values child_girl child_sex\n",
    "\n",
    "label define care 0 \"Father\" 1 \"Maternal grandparents\" 2 \"Paternal grandparents\" 3 \"Mother + Maternal grandparents\" 4 \"Mother + Paternal grandparents\" 5 \"Mother\"\n",
    "label values caregiver2 care\n",
    "\n",
    "label define home 0 \"No\" 1 \"Yes\"\n",
    "label values malehome2 home"
   ]
  },
  {
   "cell_type": "code",
   "execution_count": null,
   "id": "01335526",
   "metadata": {},
   "outputs": [],
   "source": [
    "// for children age 2 and above\n",
    "quietly logit custody_m i.caregiver2 i.child_girl c.childage c.childage#c.childage i.consent i.p_female i.malehome2 i.female_nojob i.violence i.ill_m i.ill_f i.addchild_m i.addchild_f i.province i.judgeyear if rural==0 & childage>=2, nolog vce(robust)\n",
    "est store age2_lg_urban\n",
    "quietly margins, dydx(*) post\n",
    "est store age2_one_ame_urban\n",
    "\n",
    "quietly logit custody_m i.caregiver2 i.child_girl c.childage c.childage#c.childage i.consent i.p_female i.female_nojob i.violence i.ill_m i.ill_f i.addchild_m i.addchild_f i.province i.judgeyear if rural==1 & childage>=2, nolog vce(robust)\n",
    "est store age2_lg_rural\n",
    "quietly margins, dydx(*) post\n",
    "est store age2_one_ame_rural\n",
    "\n",
    "// add customization\n",
    "///r2\n",
    "quietly est restore age2_lg_urban\n",
    "estadd scalar lg_r2 `=e(r2_p)': age2_one_ame_urban\n",
    "quietly est restore age2_lg_rural\n",
    "estadd scalar lg_r2 `=e(r2_p)': age2_one_ame_rural\n",
    "///FE\n",
    "estadd local fe \"Yes\": age2_one_ame_urban\n",
    "estadd local fe \"Yes\": age2_one_ame_rural"
   ]
  },
  {
   "cell_type": "code",
   "execution_count": null,
   "id": "7c65e63b",
   "metadata": {},
   "outputs": [],
   "source": [
    "// table for average marginal effects\n",
    "esttab age2_one_ame_urban age2_one_ame_rural using stata_ame_onechild_age2.tex, b(2) se(2) label not nobase drop(*.province *.judgeyear) noconstant ///\n",
    "stats(N fe lg_r2, fmt(0 2) labels(\"N\" \"Province and Year FE\" \"\\$R^{2}$\")) ///\n",
    "mtitles(\"Urban (N = 67,087)\" \"Rural (N = 89,183)\") booktabs nonote ///\n",
    "addnotes(\"Robust standard errors in parentheses. * \\$P < .05$, ** \\$P < .01$, *** \\$P <  .001$ (two-tailed tests).\") ///\n",
    "refcat(1.caregiver2 \"Primary caregivers (Ref: Father)\", nolabel) replace"
   ]
  },
  {
   "cell_type": "code",
   "execution_count": null,
   "id": "fcaecd23",
   "metadata": {},
   "outputs": [],
   "source": [
    "// probabilities, urban/rural, by child sex and age\n",
    "quietly estimates restore age2_lg_urban\n",
    "quietly margins child_girl, at(childage=(2(1)18)) post\n",
    "est store m_childsex_age_urban\n",
    "\n",
    "quietly estimates restore age2_lg_rural\n",
    "quietly margins child_girl, at(childage=(2(1)18)) post\n",
    "est store m_childsex_age_rural\n",
    "\n",
    "esttab m_childsex_age_* using stata_probability_childsex_age2.csv, b(3) not label ci wide nostar collabels(\"probability\" \"ci\") replace"
   ]
  },
  {
   "cell_type": "code",
   "execution_count": null,
   "id": "0a105ef8",
   "metadata": {},
   "outputs": [],
   "source": [
    "// probabilities, urban/rural, by caregiver and homeownership\n",
    "quietly estimates restore age2_lg_urban\n",
    "quietly margins caregiver2, at(malehome2=(0 1)) post\n",
    "est store m_caregiver_home_urban\n",
    "\n",
    "quietly estimates restore age2_lg_rural\n",
    "quietly margins caregiver2, post\n",
    "est store m_caregiver_home_rural\n",
    "\n",
    "esttab m_caregiver_home_* using stata_probability_caregiver_home_sf.csv, b(3) not label ci wide nostar collabels(\"probability\" \"ci\") replace"
   ]
  },
  {
   "cell_type": "markdown",
   "id": "e13cd263",
   "metadata": {},
   "source": [
    "# Multi-child sample\n"
   ]
  },
  {
   "cell_type": "code",
   "execution_count": null,
   "id": "45f32532",
   "metadata": {},
   "outputs": [],
   "source": [
    "cd \"\"\n",
    "capture log close\n",
    "log using \"\", text replace\n",
    "clear all\n",
    "macro drop _all"
   ]
  },
  {
   "cell_type": "code",
   "execution_count": null,
   "id": "0db454cf",
   "metadata": {},
   "outputs": [],
   "source": [
    "use multichild.dta, clear\n",
    "eststo clear"
   ]
  },
  {
   "cell_type": "code",
   "execution_count": null,
   "id": "de11b562",
   "metadata": {},
   "outputs": [],
   "source": [
    "label var average_age \"Average age of siblings\"\n",
    "label var age_gap \"Sibling age gap\"\n",
    "label var p_female \"Female plaintiff\"\n",
    "label var caregiver2 \"Primary caregivers\"\n",
    "label var malehome2 \"Father owns home\"\n",
    "label var female_nojob \"Unemployed mother\"\n",
    "label var violence \"Claim of domestic violence\"\n",
    "label var ill_m \"Mother with serious illness\"\n",
    "label var ill_f \"Father with serious illness\"\n",
    "label var addchild_m \"Mother has additional children\"\n",
    "label var addchild_f \"Father has additional children\"\n",
    "label var rural \"Rural areas\"\n",
    "label var consent \"Defendant's consent to divorce\"\n",
    "\n",
    "label define care 0 \"Father\" 1 \"Maternal grandparents\" 2 \"Paternal grandparents\" 3 \"Mother + Maternal grandparents\" 4 \"Mother + Paternal grandparents\" 5 \"Mother\"\n",
    "label values caregiver2 care\n",
    "\n",
    "label define home 0 \"No\" 1 \"Yes\"\n",
    "label values malehome2 home\n",
    "\n",
    "label define sample_label 0 \"Girls and Boys\" 1 \"Girls\" 2 \"Boys\"\n",
    "label values sib_com sample_label\n",
    "\n",
    "label define custody 0 \"Father Custody\" 1 \"Split Custody\" 2 \"Mother Custody\"\n",
    "label values custody_outcome custody"
   ]
  },
  {
   "cell_type": "code",
   "execution_count": null,
   "id": "3b416615",
   "metadata": {},
   "outputs": [],
   "source": [
    "// base models, cases involving children under age 2 removed\n",
    "quietly mlogit custody_outcome i.sib_com i.caregiver2 i.malehome2 c.average_age c.age_gap i.consent i.p_female i.female_nojob i.violence i.ill_m i.ill_f i.addchild_m i.addchild_f i.province i.judgeyear if rural==0, base(0) nolog vce(robust)\n",
    "est store mlg_urban\n",
    "\n",
    "quietly mlogit custody_outcome i.sib_com i.caregiver2 c.average_age c.age_gap i.consent i.p_female i.female_nojob i.violence i.ill_m i.ill_f i.addchild_m i.addchild_f i.province i.judgeyear if rural==1, base(0) nolog vce(robust)\n",
    "est store mlg_rural"
   ]
  },
  {
   "cell_type": "code",
   "execution_count": null,
   "id": "b147f42a",
   "metadata": {},
   "outputs": [],
   "source": [
    "// average marginal effects\n",
    "quietly estimates restore mlg_urban\n",
    "quietly margins, dydx(*) predict(outcome(2)) vsquish post\n",
    "est store two_ame_urban2\n",
    "\n",
    "quietly estimates restore mlg_urban\n",
    "quietly margins, dydx(*) predict(outcome(0)) vsquish post\n",
    "est store two_ame_urban0\n",
    "\n",
    "quietly estimates restore mlg_urban\n",
    "quietly margins, dydx(*) predict(outcome(1)) vsquish post\n",
    "est store two_ame_urban1\n",
    "\n",
    "quietly estimates restore mlg_rural\n",
    "quietly margins, dydx(*) predict(outcome(2)) vsquish post\n",
    "est store two_ame_rural2\n",
    "\n",
    "quietly estimates restore mlg_rural\n",
    "quietly margins, dydx(*) predict(outcome(0)) vsquish post\n",
    "est store two_ame_rural0\n",
    "\n",
    "quietly estimates restore mlg_rural\n",
    "quietly margins, dydx(*) predict(outcome(1)) vsquish post\n",
    "est store two_ame_rural1"
   ]
  },
  {
   "cell_type": "code",
   "execution_count": null,
   "id": "a3b955c0",
   "metadata": {},
   "outputs": [],
   "source": [
    "// add customization\n",
    "///r2\n",
    "quietly est restore mlg_urban\n",
    "estadd scalar mlg_r2 `=e(r2_p)': two_ame_urban2\n",
    "estadd scalar mlg_r2 `=e(r2_p)': two_ame_urban0\n",
    "estadd scalar mlg_r2 `=e(r2_p)': two_ame_urban1\n",
    "\n",
    "quietly est restore mlg_rural\n",
    "estadd scalar mlg_r2 `=e(r2_p)': two_ame_rural2\n",
    "estadd scalar mlg_r2 `=e(r2_p)': two_ame_rural0\n",
    "estadd scalar mlg_r2 `=e(r2_p)': two_ame_rural1\n",
    "\n",
    "///FE\n",
    "estadd local fe \"Yes\": two_ame_urban2\n",
    "estadd local fe \"Yes\": two_ame_urban0\n",
    "estadd local fe \"Yes\": two_ame_urban1\n",
    "\n",
    "estadd local fe \"Yes\": two_ame_rural2\n",
    "estadd local fe \"Yes\": two_ame_rural0\n",
    "estadd local fe \"Yes\": two_ame_rural1"
   ]
  },
  {
   "cell_type": "code",
   "execution_count": null,
   "id": "2d753c13",
   "metadata": {},
   "outputs": [],
   "source": [
    "// table for average marginal effects\n",
    "esttab two_ame_urban2 two_ame_urban0 two_ame_urban1 two_ame_rural2 two_ame_rural0 two_ame_rural1 using stata_ame_multichild.tex, b(2) se(2) label not nobase drop(*.province *.judgeyear) noconstant ///\n",
    "stats(N fe mlg_r2, fmt(0 2) labels(\"N\" \"Province and Year FE\" \"\\$R^{2}$\")) ///\n",
    "mtitles(\"Mother\" \"Father\" \"Split\" \"Mother\" \"Father\" \"Split\") booktabs nonote ///\n",
    "addnotes(\"Robust standard errors in parentheses. * \\$P < .05$, ** \\$P < .01$, *** \\$P <  .001$ (two-tailed tests).\") ///\n",
    "refcat(1.caregiver2 \"Primary caregivers (Ref: Father)\" 1.sib_com \"Sibling structure (Ref: Girl and Boy)\", nolabel) replace"
   ]
  },
  {
   "cell_type": "code",
   "execution_count": null,
   "id": "7858f934",
   "metadata": {},
   "outputs": [],
   "source": [
    "// probabilities by sibling structure and urban/rural\n",
    "quietly estimates restore mlg_urban\n",
    "quietly margins sib_com, predict(outcome(2)) vsquish post\n",
    "est store custody_sibling_u_mother\n",
    "\n",
    "quietly estimates restore mlg_urban\n",
    "quietly margins sib_com, predict(outcome(0)) vsquish post\n",
    "est store custody_sibling_u_father\n",
    "\n",
    "quietly estimates restore mlg_urban\n",
    "quietly margins sib_com, predict(outcome(1)) vsquish post\n",
    "est store custody_sibling_u_split\n",
    "\n",
    "quietly estimates restore mlg_rural\n",
    "quietly margins sib_com, predict(outcome(2)) vsquish post\n",
    "est store custody_sibling_r_mother\n",
    "\n",
    "quietly estimates restore mlg_rural\n",
    "quietly margins sib_com, predict(outcome(0)) vsquish post\n",
    "est store custody_sibling_r_father\n",
    "\n",
    "quietly estimates restore mlg_rural\n",
    "quietly margins sib_com, predict(outcome(1)) vsquish post\n",
    "est store custody_sibling_r_split\n",
    "\n",
    "esttab custody_sibling_u_* custody_sibling_r_* using stata_probability_custody_sibling_m.csv, b(2) not label nostar replace"
   ]
  },
  {
   "cell_type": "code",
   "execution_count": null,
   "id": "0bf0eb8b",
   "metadata": {},
   "outputs": [],
   "source": [
    "// probabilities by caregiver and homeownership\n",
    "quietly estimates restore mlg_urban\n",
    "quietly margins caregiver2, at(malehome2=(0 1)) predict(outcome(2)) vsquish post\n",
    "est store custody_home_u_mother\n",
    "\n",
    "quietly estimates restore mlg_rural\n",
    "quietly margins caregiver2, predict(outcome(2)) vsquish post\n",
    "est store custody_home_r_mother\n",
    "\n",
    "quietly estimates restore mlg_urban\n",
    "quietly margins caregiver2, at(malehome2=(0 1)) predict(outcome(0)) vsquish post\n",
    "est store custody_home_u_father\n",
    "\n",
    "quietly estimates restore mlg_rural\n",
    "quietly margins caregiver2, predict(outcome(0)) vsquish post\n",
    "est store custody_home_r_father\n",
    "\n",
    "quietly estimates restore mlg_urban\n",
    "quietly margins caregiver2, at(malehome2=(0 1)) predict(outcome(1)) vsquish post\n",
    "est store custody_home_u_split\n",
    "\n",
    "quietly estimates restore mlg_rural\n",
    "quietly margins caregiver2, predict(outcome(1)) vsquish post\n",
    "est store custody_home_r_split\n",
    "\n",
    "esttab custody_home_u_* custody_home_r_* using stata_probability_custody_home_m.csv, b(3) not label ci wide nostar replace"
   ]
  }
 ],
 "metadata": {
  "kernelspec": {
   "display_name": "Stata (nbstata)",
   "language": "stata",
   "name": "nbstata"
  },
  "language_info": {
   "file_extension": ".do",
   "mimetype": "text/x-stata",
   "name": "stata",
   "version": "17"
  }
 },
 "nbformat": 4,
 "nbformat_minor": 5
}
